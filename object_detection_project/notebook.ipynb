{
 "cells": [
  {
   "cell_type": "markdown",
   "id": "c5a49ab7",
   "metadata": {},
   "source": [
    "# Product Recognition on Store Shelves: A Jupyter Notebook Implementation\n",
    "\n",
    "**Exam Project:** Developed for the final exam by Massimo Modesti and Federico Tampieri as part of the course. This notebook implements a system for recognizing cereal box products on supermarket shelves, following the exam requirements.\n",
    "\n",
    "---"
   ]
  },
  {
   "cell_type": "markdown",
   "id": "65e85cbb",
   "metadata": {},
   "source": [
    "## Abstract\n",
    "\n",
    "In this step, we detail a pipeline combining feature detection (SIFT), geometric verification (homography with RANSAC), and chromatic filtering to locate and identify cereal box templates in shelf images. We explain each code component, from data loading through result visualization, aligning with the exam requirements.\n",
    "\n",
    "---"
   ]
  },
  {
   "cell_type": "markdown",
   "id": "21d00791",
   "metadata": {},
   "source": [
    "# Step A\n",
    "## 1. Setup and Configuration\n",
    "\n",
    "In this section, we import necessary libraries, define directories for template and scene images, enumerate template IDs, set thresholds for matching and color filtering, and specify visualization parameters."
   ]
  },
  {
   "cell_type": "code",
   "execution_count": null,
   "id": "211e2701",
   "metadata": {
    "vscode": {
     "languageId": "plaintext"
    }
   },
   "outputs": [],
   "source": [
    "import cv2  # OpenCV for image processing\n",
    "import numpy as np  # array operations\n",
    "import os  # filesystem navigation\n",
    "\n",
    "# Directories containing template (model) and scene (shelf) images\n",
    "TEMPLATE_DIR = './models/'    # contains files named 0.jpg, 1.jpg, ..., 26.jpg\n",
    "SCENE_DIR    = './scenes/'    # contains files e1.png to e5.png\n",
    "\n",
    "# List of template IDs to detect (provided by the exam brief)\n",
    "TEMPLATE_IDS = [0, 1, 11, 19, 24, 25, 26]\n",
    "\n",
    "# List of scene filenames to process\n",
    "SCENE_FILES  = ['e1.png', 'e2.png', 'e3.png', 'e4.png', 'e5.png']\n",
    "\n",
    "# Templates with similar appearances requiring hue-based disambiguation\n",
    "CONFUSABLE_IDS    = {0, 1, 11, 26}\n",
    "# Maximum allowed hue difference (in OpenCV hue units [0,179])\n",
    "HUE_DIFF_THRESHOLD = 17.0\n",
    "\n",
    "# Minimum number of feature matches/inliers required for a valid detection\n",
    "MIN_MATCHES         = 30\n",
    "# Lowe's ratio test parameter to filter ambiguous matches\n",
    "ess ratio_test_thresh = 0.7\n",
    "# Minimum bounding-box area ratio relative to scene size\n",
    "ess min_area_ratio = 0.01\n",
    "# RANSAC reprojection threshold (pixels)\n",
    "ess ransac_thresh = 3.0\n",
    "\n",
    "# Visualization styles\n",
    "BOX_COLOR    = (0, 255, 0)  # green box outlines\n",
    "ess CENTER_COLOR = (0, 0, 255)  # red centers\n",
    "ess TEXT_COLOR   = (0, 255, 0)  # green text\n",
    "ess FONT         = cv2.FONT_HERSHEY_SIMPLEX\n",
    "ess FONT_SCALE   = 0.7\n",
    "ess LINE_THICK   = 2\n",
    "\n",
    "# Explanation:\n",
    "# - We set up file paths and template identifiers according to the project specification.\n",
    "# - Parameters control the sensitivity of feature matching, homography estimation,\n",
    "#   size filtering, and color-based checks.\n"
   ]
  }
 ],
 "metadata": {
  "language_info": {
   "name": "python"
  }
 },
 "nbformat": 4,
 "nbformat_minor": 5
}
